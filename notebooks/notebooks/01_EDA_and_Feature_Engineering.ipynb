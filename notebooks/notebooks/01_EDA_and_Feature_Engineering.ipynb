{
 "cells": [
  {
   "cell_type": "code",
   "execution_count": null,
   "id": "57a4368c",
   "metadata": {
    "vscode": {
     "languageId": "plaintext"
    }
   },
   "outputs": [],
   "source": [
    "# notebooks/01_EDA_and_Feature_Engineering.ipynb\n",
    "\n",
    "# 1. Load Data and Libraries\n",
    "import pandas as pd\n",
    "import numpy as np\n",
    "import matplotlib.pyplot as plt\n",
    "import seaborn as sns\n",
    "from sklearn.model_selection import train_test_split\n",
    "import statsmodels.api as sm\n",
    "from sklearn.metrics import confusion_matrix, recall_score, accuracy_score, f1_score\n",
    "\n",
    "# Load the clean dataset from the preprocessing step\n",
    "INPUT_FILE = '../data/processed/car_insurance_claim_clean.csv'\n",
    "data = pd.read_csv(INPUT_FILE)\n",
    "\n",
    "print(\"Data loaded successfully.\")\n",
    "print(f\"Dataset shape: {data.shape}\")\n",
    "print(\"\\nFirst 5 rows of the clean data:\")\n",
    "# display(data.head()) # Use display(data.head()) in Jupyter for a nicer table\n",
    "\n",
    "# 2. Visualize Target Variable (Response) and Check for Imbalance\n",
    "# Visualization of the target variable (Response)\n",
    "plt.figure(figsize=(7, 5))\n",
    "sns.countplot(x='Response', data=data)\n",
    "plt.title('Distribution of the Target Variable (Response)')\n",
    "plt.xticks([0, 1], ['Did Not Buy (0)', 'Bought (1)'])\n",
    "plt.ylabel('Customer Count')\n",
    "plt.xlabel('Car Insurance Purchase')\n",
    "plt.show()\n",
    "\n",
    "# Calculate the proportion of the positive class (Response=1)\n",
    "response_rate = data['Response'].mean()\n",
    "print(f\"\\nProportion of positive responses (Response=1): {response_rate:.2%}\")"
   ]
  }
 ],
 "metadata": {
  "language_info": {
   "name": "python"
  }
 },
 "nbformat": 4,
 "nbformat_minor": 5
}
